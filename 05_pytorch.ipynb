{
  "nbformat": 4,
  "nbformat_minor": 0,
  "metadata": {
    "colab": {
      "provenance": []
    },
    "kernelspec": {
      "name": "python3",
      "display_name": "Python 3"
    },
    "language_info": {
      "name": "python"
    }
  },
  "cells": [
    {
      "cell_type": "markdown",
      "source": [
        "### Defintion"
      ],
      "metadata": {
        "id": "fJg-OrJPdvLy"
      }
    },
    {
      "cell_type": "markdown",
      "source": [
        "Going Modular: turning notebook code into a series of different Python scripts that offer similar funcionality.\n",
        "\n",
        "THe main concept of this section is: **turn useful notebook code cells into reusable Python files.**\n",
        "\n",
        "Going from Jupyter notebooks where you can visualize nad run quick experiment to then save the most useful parts into py scripts.\n",
        "\n"
      ],
      "metadata": {
        "id": "ivyX5cA7YRa7"
      }
    },
    {
      "cell_type": "markdown",
      "source": [
        "### Running code from a Py srcipt"
      ],
      "metadata": {
        "id": "2ggbJx-Zdrxn"
      }
    },
    {
      "cell_type": "markdown",
      "source": [
        "You might have to run the code like this:\n",
        "\n",
        "`python train.py --model MODEL_NAME --batch_size BATCH_SIZE --lr LEARNING_RATE --num_epochs NUM_EPOCHS`\n",
        "\n",
        "`train.py` is the target Python script\n",
        "\n",
        "`--model`, `--batch_size`, `--lr` and `--num_epochs` are known as argument flags."
      ],
      "metadata": {
        "id": "l1-mOIembkzJ"
      }
    },
    {
      "cell_type": "markdown",
      "source": [
        "For example, let's say we wanted to train our TinyVGG model from notebook 04 for 10 epochs with a batch size of 32 and a learning rate of 0.001:\n",
        "\n",
        "`python train.py --model tinyvgg --batch_size 32 --lr 0.001 --num_epochs 10`\n"
      ],
      "metadata": {
        "id": "rBxPQd4NbkwO"
      }
    },
    {
      "cell_type": "markdown",
      "source": [
        "### Things to note"
      ],
      "metadata": {
        "id": "GJ8tX3yQbktr"
      }
    },
    {
      "cell_type": "markdown",
      "source": [
        "**Docstrings** - writing reproducible and understnadable code is importatn and with this in mind, each of the funtions/classes we'll be putting into stripts has been created with Google's Python docstring style in mind.\n",
        "\n",
        "**Imports at the top of scripts** - Sicne all of the Python scripts we are going to create could be considered a small rpgram on thier own, all of the sripts requre thier input modeuls be imported at the stat of the script."
      ],
      "metadata": {
        "id": "40KRdXWpbkq9"
      }
    },
    {
      "cell_type": "markdown",
      "source": [
        "## 0. Cell mode vs. script mode"
      ],
      "metadata": {
        "id": "Vem46qbzbkog"
      }
    },
    {
      "cell_type": "markdown",
      "source": [
        "**Cell mode** --> notebook run normally each cell in the notebook is either code or markdown(cell version of this notebook can be seen in 04_pytorch.ipynb)\n",
        "\n",
        "**Script mode** --> many of teh code cells may be turned into Python scripts"
      ],
      "metadata": {
        "id": "xu0s-mLibkl-"
      }
    },
    {
      "cell_type": "markdown",
      "source": [
        "## 1. Get Data"
      ],
      "metadata": {
        "id": "X-5Tfhe5bkjA"
      }
    },
    {
      "cell_type": "code",
      "source": [
        "import os\n",
        "import requests\n",
        "import zipfile\n",
        "from pathlib import Path\n",
        "\n",
        "data_path = Path(\"data/\")\n",
        "image_path = data_path / \"pizza_steak_sushi\"\n",
        "\n",
        "if image_path.is_dir():\n",
        "  print(f\"{image_path} is a diretory\")\n",
        "else:\n",
        "  print(f\"Downloading...\")\n",
        "  image_path.mkdir(parents=True, exist_ok=True)\n",
        "\n",
        "with open(data_path / \"pizza_steak_sushi.zip\", \"wb\") as f:\n",
        "  request = requests.get(\"https://github.com/mrdbourke/pytorch-deep-learning/raw/main/data/pizza_steak_sushi.zip\")\n",
        "  f.write(request.content) # write the requested conctnet to the file\n",
        "\n",
        "with zipfile.ZipFile(data_path / \"pizza_steak_sushi.zip\", \"r\") as zip_ref:\n",
        "  zip_ref.extractall(image_path)\n",
        "\n",
        "os.remove(data_path/ \"pizza_steak_sushi.zip\")"
      ],
      "metadata": {
        "id": "0ZGl3s6CbkgF",
        "colab": {
          "base_uri": "https://localhost:8080/"
        },
        "outputId": "8ad6d247-e432-4b8e-b124-a2662b3cdf1e"
      },
      "execution_count": 3,
      "outputs": [
        {
          "output_type": "stream",
          "name": "stdout",
          "text": [
            "data/pizza_steak_sushi is a diretory\n"
          ]
        }
      ]
    },
    {
      "cell_type": "markdown",
      "source": [
        "data/└── pizza_steak_sushi/\n",
        "    ├── train/\n",
        "    │   ├── pizza/\n",
        "    │   │   ├── train_image01.jpeg\n",
        "    │   │   ├── test_image02.jpeg\n",
        "    │   │   └── ...\n",
        "    │   ├── steak/\n",
        "    │   │   └── ...\n",
        "    │   └── sushi/\n",
        "    │       └── ...\n",
        "    └── test/\n",
        "        ├── pizza/\n",
        "        │   ├── test_image01.jpeg\n",
        "        │   └── test_image02.jpeg\n",
        "        ├── steak/\n",
        "        └── sushi/"
      ],
      "metadata": {
        "id": "8VBk-kYGbkZ2"
      }
    },
    {
      "cell_type": "code",
      "source": [
        "# Create a directory going_modular scripts\n",
        "import os\n",
        "os.makedirs(\"going_modular\")"
      ],
      "metadata": {
        "id": "trzR2Ab02mYG"
      },
      "execution_count": 13,
      "outputs": []
    },
    {
      "cell_type": "markdown",
      "source": [
        "## 2. Create Datasets and DataLoaders"
      ],
      "metadata": {
        "id": "Ldu6WJZR6DaS"
      }
    },
    {
      "cell_type": "code",
      "source": [
        "%%writefile going_modular/data_setup.py\n",
        "\n",
        "'''\n",
        "Contains Functionality for creating PyTorch DataLoaders for image classification data.\n",
        "'''\n",
        "\n",
        "import os\n",
        "from torchvision import datasets, transforms\n",
        "from torch.utils.data import DataLoader\n",
        "\n",
        "NUM_WORKERS = os.cpu_count()\n",
        "\n",
        "def create_dataloaders(\n",
        "    train_dir: str,\n",
        "    test_dir: str,\n",
        "    transform: transforms.Compose,\n",
        "    batch_size: int,\n",
        "    num_workers: int=NUM_WORKERS\n",
        "):\n",
        "  ''' Create training and testing DataLoaders\n",
        "\n",
        "  Takes in a trainig dir adn testing dir path and\n",
        "  turns them into PyTorch DataSets and then into PyTorch DataLoaders.\n",
        "\n",
        "  Args:\n",
        "    train_dir: Path to training directory.\n",
        "    test_dir: Path to testing directory.\n",
        "    transform: torchvision transfomrs to perform on trainign and testing data.\n",
        "    batch_size: Number of samples per batch in each of the DataLoaders.\n",
        "    num_workers: An integer for number of workers per DataLoader.\n",
        "\n",
        "  Returns:\n",
        "    A tuple of (train_dataloader, test_dataloader, class_name).\n",
        "    Example usage:\n",
        "        rain_dataloader, test_dataloader, class_names = \\\n",
        "        = create_dataloaders(train_dir=path/to/train_dir,\n",
        "                             test_dir=path/to/test_dir,\n",
        "                             transform=some_transform,\n",
        "                             batch_size=32,\n",
        "                             num_workers=4)\n",
        "  '''\n",
        "\n",
        "  # Use ImageFolder to create dataset\n",
        "  train_data = datasets.ImageFolder(train_dir, transform=transform)\n",
        "  test_data = datasets.ImageFolder(test_dir, transform=transform)\n",
        "\n",
        "  # Get calss names\n",
        "  class_names = train_data.classes\n",
        "\n",
        "  # Turn images into data loaders\n",
        "  train_dataloader = DataLoader(\n",
        "      train_data,\n",
        "      batch_size=batch_size,\n",
        "      shuffle=True,\n",
        "      num_workers=num_workers,\n",
        "      pin_memory=True,\n",
        "  )\n",
        "\n",
        "  test_dataloader = DataLoader(\n",
        "      test_data,\n",
        "      batch_size=batch_size,\n",
        "      shuffle=False,\n",
        "      num_workers=num_workers,\n",
        "      pin_memory=True,\n",
        "  )\n",
        "\n",
        "  return train_dataloader, test_dataloader, class_names"
      ],
      "metadata": {
        "id": "ZcbpP7QYbkTr",
        "colab": {
          "base_uri": "https://localhost:8080/"
        },
        "outputId": "d9fcc9e0-e11e-41d1-badc-11d49e0b5ca5"
      },
      "execution_count": 38,
      "outputs": [
        {
          "output_type": "stream",
          "name": "stdout",
          "text": [
            "Overwriting going_modular/data_setup.py\n"
          ]
        }
      ]
    },
    {
      "cell_type": "markdown",
      "source": [
        "## 3. Making a model(TinyVGG)"
      ],
      "metadata": {
        "id": "2Dq3HXnX6H58"
      }
    },
    {
      "cell_type": "code",
      "source": [
        "%%writefile going_modular/model_builder.py\n",
        "''' Contain PyTorch model code to instantiate a TinyVGG model. '''\n",
        "\n",
        "import torch\n",
        "from torch import nn\n",
        "\n",
        "class TinyVGG(nn.Module):\n",
        "  ''' Creates the TinyVGG architecture.\n",
        "\n",
        "  Replicates the TinyVGG architecture from the CNN explainer webiste in PyTorch\n",
        "\n",
        "  Args:\n",
        "    input_shapes: An integer indicating number of input channels\n",
        "    hidden_units: AN integer indicating number of hidden units betwwn layers.\n",
        "    output_shapes: An integer indicating number of output units.\n",
        "  '''\n",
        "\n",
        "  def __init__(self, input_shapes: int,\n",
        "               hidden_units: int,\n",
        "               output_shapes: int) -> None:\n",
        "    super().__init__()\n",
        "    self.conv_block_1 = nn.Sequential(\n",
        "        nn.Conv2d(\n",
        "            in_channels=input_shapes,\n",
        "            out_channels=hidden_units,\n",
        "            kernel_size=3,\n",
        "            stride=1,\n",
        "            padding=0\n",
        "            ),\n",
        "        nn.ReLU(),\n",
        "        nn.Conv2d(in_channels=hidden_units,\n",
        "                  out_channels=hidden_units,\n",
        "                  kernel_size=3,\n",
        "                  stride=1,\n",
        "                  padding=0\n",
        "                  ),\n",
        "        nn.ReLU(),\n",
        "        nn.MaxPool2d(kernel_size=2,\n",
        "                     stride=2)\n",
        "    )\n",
        "    self.conv_block_2 = nn.Sequential(\n",
        "        nn.Conv2d(\n",
        "            in_channels=hidden_units,\n",
        "            out_channels=hidden_units,\n",
        "            kernel_size=3,\n",
        "            stride=1,\n",
        "            padding=0\n",
        "            ),\n",
        "        nn.ReLU(),\n",
        "        nn.Conv2d(in_channels=hidden_units,\n",
        "                  out_channels=hidden_units,\n",
        "                  kernel_size=3,\n",
        "                  stride=1,\n",
        "                  padding=0\n",
        "                  ),\n",
        "        nn.ReLU(),\n",
        "        nn.MaxPool2d(kernel_size=2,\n",
        "                     stride=2)\n",
        "    )\n",
        "    self.classifier = nn.Sequential(\n",
        "        nn.Flatten(),\n",
        "        nn.Linear(in_features=hidden_units*13*13, # spital dim\n",
        "                  out_features=output_shapes)\n",
        "    )\n",
        "\n",
        "  def forward(self, x):\n",
        "    return self.classifier(self.conv_block_2(self.conv_block_1(x)))"
      ],
      "metadata": {
        "colab": {
          "base_uri": "https://localhost:8080/"
        },
        "id": "EDdgWsvx299p",
        "outputId": "334ebef9-1515-4d58-b9cf-39cc17a8a236"
      },
      "execution_count": 44,
      "outputs": [
        {
          "output_type": "stream",
          "name": "stdout",
          "text": [
            "Overwriting going_modular/model_builder.py\n"
          ]
        }
      ]
    },
    {
      "cell_type": "markdown",
      "source": [
        "## 4. Creating `train_step()` and `test_step()` functions and `train()` to combine them"
      ],
      "metadata": {
        "id": "FP8dMpdhbkNy"
      }
    },
    {
      "cell_type": "code",
      "source": [
        "%%writefile going_modular/engine.py\n",
        "\n",
        "\"\"\"\n",
        "Contains functions for training and testing a PyTorch model.\n",
        "\"\"\"\n",
        "import torch\n",
        "from tqdm.auto import tqdm\n",
        "from typing import Dict, List, Tuple\n",
        "\n",
        "def train_step(model: torch.nn.Module,\n",
        "               dataloader: torch.utils.data.DataLoader,\n",
        "               loss_fn: torch.nn.Module,\n",
        "               optimizer: torch.optim.Optimizer,\n",
        "               device: torch.device) -> Tuple[float, float]:\n",
        "  \"\"\"Trains a PyTorch model for a single epoch.\n",
        "\n",
        "  Turns a target PyTorch model to training mode and then\n",
        "  runs through all of the required training steps (forward\n",
        "  pass, loss calculation, optimizer step).\n",
        "\n",
        "  Args:\n",
        "    model: A PyTorch model to be trained.\n",
        "    dataloader: A DataLoader instance for the model to be trained on.\n",
        "    loss_fn: A PyTorch loss function to minimize.\n",
        "    optimizer: A PyTorch optimizer to help minimize the loss function.\n",
        "    device: A target device to compute on (e.g. \"cuda\" or \"cpu\").\n",
        "\n",
        "  Returns:\n",
        "    A tuple of training loss and training accuracy metrics.\n",
        "    In the form (train_loss, train_accuracy). For example:\n",
        "\n",
        "    (0.1000, 0.8000)\n",
        "  \"\"\"\n",
        "  # train mode\n",
        "  model.train()\n",
        "\n",
        "  # Setup train loss and train accuracy values\n",
        "  train_loss, train_acc = 0, 0\n",
        "\n",
        "  # Loop through data loader data batches\n",
        "  for batch, (X, y) in enumerate(dataloader):\n",
        "      # Send data to target device\n",
        "      X, y = X.to(device), y.to(device)\n",
        "\n",
        "      # Forward pass\n",
        "      y_pred = model(X)\n",
        "\n",
        "      # Calculate and accumulate loss\n",
        "      loss = loss_fn(y_pred, y)\n",
        "      train_loss += loss.item()\n",
        "\n",
        "      # Optimizer zero grad\n",
        "      optimizer.zero_grad()\n",
        "\n",
        "      # Loss backward\n",
        "      loss.backward()\n",
        "\n",
        "      # Optimizer step\n",
        "      optimizer.step()\n",
        "\n",
        "      # ACC\n",
        "      y_pred_class = torch.argmax(torch.softmax(y_pred, dim=1), dim=1) # logits --> probs --> labels\n",
        "      train_acc += (y_pred_class == y).sum().item()/len(y_pred)\n",
        "\n",
        "  # average loss and accuracy per batch\n",
        "  train_loss = train_loss / len(dataloader)\n",
        "  train_acc = train_acc / len(dataloader)\n",
        "  return train_loss, train_acc\n",
        "\n",
        "def test_step(model: torch.nn.Module,\n",
        "              dataloader: torch.utils.data.DataLoader,\n",
        "              loss_fn: torch.nn.Module,\n",
        "              device: torch.device) -> Tuple[float, float]:\n",
        "  \"\"\"Tests a PyTorch model for a single epoch.\n",
        "\n",
        "  Turns a target PyTorch model to \"eval\" mode and then performs\n",
        "  a forward pass on a testing dataset.\n",
        "\n",
        "  Args:\n",
        "    model: A PyTorch model to be tested.\n",
        "    dataloader: A DataLoader instance for the model to be tested on.\n",
        "    loss_fn: A PyTorch loss function to calculate loss on the test data.\n",
        "    device: A target device to compute on (e.g. \"cuda\" or \"cpu\").\n",
        "\n",
        "  Returns:\n",
        "    A tuple of testing loss and testing accuracy metrics.\n",
        "    In the form (test_loss, test_accuracy). For example:\n",
        "\n",
        "    (0.2000, 0.8000)\n",
        "  \"\"\"\n",
        "  # Put model in eval mode\n",
        "  model.eval()\n",
        "\n",
        "  # Setup test loss and test accuracy values\n",
        "  test_loss, test_acc = 0, 0\n",
        "\n",
        "  # Turn on inference context manager\n",
        "  with torch.inference_mode():\n",
        "      # Loop through DataLoader batches\n",
        "      for batch, (X, y) in enumerate(dataloader):\n",
        "          # Send data to target device\n",
        "          X, y = X.to(device), y.to(device)\n",
        "\n",
        "          # Forward pass\n",
        "          test_pred_logits = model(X)\n",
        "\n",
        "          # Calculate and accumulate loss\n",
        "          loss = loss_fn(test_pred_logits, y)\n",
        "          test_loss += loss.item()\n",
        "\n",
        "          # Calculate and accumulate accuracy\n",
        "          test_pred_labels = test_pred_logits.argmax(dim=1)\n",
        "          test_acc += ((test_pred_labels == y).sum().item()/len(test_pred_labels))\n",
        "\n",
        "  # average loss and accuracy per batch\n",
        "  test_loss = test_loss / len(dataloader)\n",
        "  test_acc = test_acc / len(dataloader)\n",
        "  return test_loss, test_acc\n",
        "\n",
        "def train(model: torch.nn.Module,\n",
        "          train_dataloader: torch.utils.data.DataLoader,\n",
        "          test_dataloader: torch.utils.data.DataLoader,\n",
        "          optimizer: torch.optim.Optimizer,\n",
        "          loss_fn: torch.nn.Module,\n",
        "          epochs: int,\n",
        "          device: torch.device) -> Dict[str, List]:\n",
        "  '''Trains and tests a PyTorch model.\n",
        "\n",
        "  Passes a target PyTorch models through train_step() and test_step()\n",
        "  functions for a number of epochs, training and testing the model\n",
        "  in the same epoch loop.\n",
        "\n",
        "  Calculates, prints and stores evaluation metrics throughout.\n",
        "\n",
        "  Args:\n",
        "    model: A PyTorch model to be trained and tested.\n",
        "    train_dataloader: A DataLoader instance for the model to be trained on.\n",
        "    test_dataloader: A DataLoader instance for the model to be tested on.\n",
        "    optimizer: A PyTorch optimizer to help minimize the loss function.\n",
        "    loss_fn: A PyTorch loss function to calculate loss on both datasets.\n",
        "    epochs: An integer indicating how many epochs to train for.\n",
        "    device: A target device to compute on (e.g. \"cuda\" or \"cpu\").\n",
        "\n",
        "  Returns:\n",
        "    A dictionary of training and testing loss as well as training and\n",
        "    testing accuracy metrics. Each metric has a value in a list for\n",
        "    each epoch.\n",
        "    In the form: {train_loss: [...],\n",
        "                  train_acc: [...],\n",
        "                  test_loss: [...],\n",
        "                  test_acc: [...]}\n",
        "    For example if training for epochs=2:\n",
        "                 {train_loss: [2.0616, 1.0537],\n",
        "                  train_acc: [0.3945, 0.3945],\n",
        "                  test_loss: [1.2641, 1.5706],\n",
        "                  test_acc: [0.3400, 0.2973]}\n",
        "  '''\n",
        "  # Create empty results dictionary\n",
        "  results = {\"train_loss\": [],\n",
        "      \"train_acc\": [],\n",
        "      \"test_loss\": [],\n",
        "      \"test_acc\": []\n",
        "  }\n",
        "\n",
        "  # Loop through training and testing steps for a number of epochs\n",
        "  for epoch in tqdm(range(epochs)):\n",
        "      train_loss, train_acc = train_step(model=model,\n",
        "                                          dataloader=train_dataloader,\n",
        "                                          loss_fn=loss_fn,\n",
        "                                          optimizer=optimizer,\n",
        "                                          device=device)\n",
        "      test_loss, test_acc = test_step(model=model,\n",
        "                                      dataloader=test_dataloader,\n",
        "                                      loss_fn=loss_fn,\n",
        "                                      device=device)\n",
        "\n",
        "      # Print out results\n",
        "      print(\n",
        "          f\"Epoch: {epoch+1} | \"\n",
        "          f\"train_loss: {train_loss:.4f} | \"\n",
        "          f\"train_acc: {train_acc:.4f} | \"\n",
        "          f\"test_loss: {test_loss:.4f} | \"\n",
        "          f\"test_acc: {test_acc:.4f}\"\n",
        "      )\n",
        "\n",
        "      # Update results dictionary\n",
        "      results[\"train_loss\"].append(train_loss)\n",
        "      results[\"train_acc\"].append(train_acc)\n",
        "      results[\"test_loss\"].append(test_loss)\n",
        "      results[\"test_acc\"].append(test_acc)\n",
        "\n",
        "  # Return the filled results at the end of the epochs\n",
        "  return results"
      ],
      "metadata": {
        "id": "HXeEGs0dbkKu",
        "colab": {
          "base_uri": "https://localhost:8080/"
        },
        "outputId": "66765525-d1a1-4b39-a0d5-ed16962132b9"
      },
      "execution_count": 18,
      "outputs": [
        {
          "output_type": "stream",
          "name": "stdout",
          "text": [
            "Writing going_modular/engine.py\n"
          ]
        }
      ]
    },
    {
      "cell_type": "markdown",
      "source": [
        "## 5. Creating a function to save the model"
      ],
      "metadata": {
        "id": "yUiJcUHNbkH4"
      }
    },
    {
      "cell_type": "markdown",
      "source": [
        "It is common to store helper functions in a file called `utils.py`"
      ],
      "metadata": {
        "id": "HHJMdsBqbkEl"
      }
    },
    {
      "cell_type": "code",
      "source": [
        "%%writefile going_modular/utils.py\n",
        "\n",
        "''' Contains verious utility functions for PyTorch model trainign and saving. '''\n",
        "import torch\n",
        "from pathlib import Path\n",
        "\n",
        "def save_model(model: torch.nn.Module,\n",
        "               target_dir: str,\n",
        "               model_name:str):\n",
        "  ''' Saves a PyTorch model to a target directory.\n",
        "\n",
        "  Args:\n",
        "    model: A target PyTorch model to save.\n",
        "    target_dir: A directory for saving the model to.\n",
        "    model_name: A filename for the saved model. Should include either \".pth\" or \".pt\" as the file extenstion.\n",
        "\n",
        "  Example usage:\n",
        "    save_model(model=model_0,\n",
        "               target_dir=\"models\",\n",
        "               model_name=\"05_going_modular_tingvgg_model.pth\")\n",
        "  '''\n",
        "  # Create target directory\n",
        "  target_dir_path = Path(target_dir)\n",
        "  target_dir_path.mkdir(parents=True,\n",
        "                        exist_ok=True)\n",
        "\n",
        "  # Create model save pth\n",
        "  assert model_name.endswith(\".pth\") or model_name.endswith(\".pt\"), \"model_name should end with '.plt' or '.pth'\"\n",
        "  model_save_path = target_dir_path / model_name\n",
        "\n",
        "  # Save the model state_dict()\n",
        "  print(f\" Saving model to: {model_save_path}\")\n",
        "  torch.save(obj=model.state_dict(),\n",
        "             f=model_save_path)"
      ],
      "metadata": {
        "id": "NVIGvKcQbkBl",
        "colab": {
          "base_uri": "https://localhost:8080/"
        },
        "outputId": "213e7a01-0167-4c14-8f46-5b986da7edbc"
      },
      "execution_count": 19,
      "outputs": [
        {
          "output_type": "stream",
          "name": "stdout",
          "text": [
            "Writing going_modular/utils.py\n"
          ]
        }
      ]
    },
    {
      "cell_type": "markdown",
      "source": [
        "## 6. Train, evaluate and save the model"
      ],
      "metadata": {
        "id": "W2daJ66Fbj-3"
      }
    },
    {
      "cell_type": "code",
      "source": [
        "%%writefile going_modular/train.py\n",
        "''' Trains a PyTorch image classification omdel using device-agnostic code. '''\n",
        "\n",
        "import os\n",
        "import torch\n",
        "# Since train.py is going to be inside going_modular directory, we can import the other modules via import without from X import ...\n",
        "import data_setup, engine, model_builder, utils\n",
        "from torchvision import transforms\n",
        "\n",
        "# setup hyperparameters\n",
        "NUM_EPOCHS = 5\n",
        "BATCH_SIZE = 32\n",
        "HIDDEN_UNITS = 10\n",
        "LR = 0.001\n",
        "\n",
        "# Setup directories\n",
        "train_dir = \"data/pizza_steak_sushi/train\"\n",
        "test_dir = \"data/pizza_steak_sushi/test\"\n",
        "\n",
        "# device target\n",
        "device = \"cuda\" if torch.cuda.is_available() else \"cpu\"\n",
        "\n",
        "# Create trsnfomrs\n",
        "data_transform = transforms.Compose(\n",
        "    [\n",
        "        transforms.Resize((64,64)),\n",
        "        transforms.ToTensor()\n",
        "    ]\n",
        ")\n",
        "\n",
        "# Create dataloaders with the help from data_setup.py\n",
        "train_dataloader, test_dataloader, class_names = data_setup.create_dataloaders(\n",
        "    train_dir=train_dir,\n",
        "    test_dir=test_dir,\n",
        "    transform=data_transform,\n",
        "    batch_size=BATCH_SIZE\n",
        ")\n",
        "\n",
        "# Create model with hel form model_buidler.py\n",
        "model = model_builder.TinyVGG(\n",
        "    input_shapes=3,\n",
        "    hidden_units=HIDDEN_UNITS,\n",
        "    output_shapes=len(class_names)\n",
        ").to(device)\n",
        "\n",
        "# Set loss and optimizer\n",
        "loss_fn = torch.nn.CrossEntropyLoss()\n",
        "optimizer = torch.optim.Adam(params = model.parameters(),\n",
        "                             lr=LR)\n",
        "\n",
        "# Start training with help form engine.py\n",
        "engine.train(model=model,\n",
        "             train_dataloader=train_dataloader,\n",
        "             test_dataloader=test_dataloader,\n",
        "             loss_fn=loss_fn,\n",
        "             optimizer=optimizer,\n",
        "             epochs=NUM_EPOCHS,\n",
        "             device=device)\n",
        "\n",
        "# Save the model with help from utils.py\n",
        "utils.save_model(model=model,\n",
        "                 target_dir=\"models\",\n",
        "                 model_name=\"modular_model_tinvgg.pth\")\n"
      ],
      "metadata": {
        "id": "jw3iv9qpbj78",
        "colab": {
          "base_uri": "https://localhost:8080/"
        },
        "outputId": "be544fb9-a9ea-49c2-aadb-ccd61a6d9818"
      },
      "execution_count": 40,
      "outputs": [
        {
          "output_type": "stream",
          "name": "stdout",
          "text": [
            "Overwriting going_modular/train.py\n"
          ]
        }
      ]
    },
    {
      "cell_type": "code",
      "source": [
        "!python going_modular/train.py"
      ],
      "metadata": {
        "id": "DWm-e5X-bj5B",
        "colab": {
          "base_uri": "https://localhost:8080/"
        },
        "outputId": "fa2ecc0a-b7ff-4dcc-ad74-fbd0a9404285"
      },
      "execution_count": 45,
      "outputs": [
        {
          "output_type": "stream",
          "name": "stdout",
          "text": [
            "  0% 0/5 [00:00<?, ?it/s]Epoch: 1 | train_loss: 1.1053 | train_acc: 0.2891 | test_loss: 1.0986 | test_acc: 0.2604\n",
            " 20% 1/5 [00:01<00:07,  1.92s/it]Epoch: 2 | train_loss: 1.0918 | train_acc: 0.4141 | test_loss: 1.0750 | test_acc: 0.5417\n",
            " 40% 2/5 [00:03<00:05,  1.82s/it]Epoch: 3 | train_loss: 1.1133 | train_acc: 0.2812 | test_loss: 1.0655 | test_acc: 0.5417\n",
            " 60% 3/5 [00:05<00:03,  1.94s/it]Epoch: 4 | train_loss: 1.0923 | train_acc: 0.4023 | test_loss: 1.0818 | test_acc: 0.5417\n",
            " 80% 4/5 [00:08<00:02,  2.40s/it]Epoch: 5 | train_loss: 1.0905 | train_acc: 0.4023 | test_loss: 1.0744 | test_acc: 0.5417\n",
            "100% 5/5 [00:10<00:00,  2.19s/it]\n",
            " Saving model to: models/modular_model_tinvgg.pth\n"
          ]
        }
      ]
    },
    {
      "cell_type": "code",
      "source": [],
      "metadata": {
        "id": "v1CVYhqIbjKT"
      },
      "execution_count": null,
      "outputs": []
    }
  ]
}